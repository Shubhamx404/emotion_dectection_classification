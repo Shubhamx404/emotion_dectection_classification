{
  "nbformat": 4,
  "nbformat_minor": 0,
  "metadata": {
    "colab": {
      "provenance": [],
      "gpuType": "T4"
    },
    "kernelspec": {
      "name": "python3",
      "display_name": "Python 3"
    },
    "language_info": {
      "name": "python"
    },
    "accelerator": "GPU"
  },
  "cells": [
    {
      "cell_type": "code",
      "execution_count": 1,
      "metadata": {
        "colab": {
          "base_uri": "https://localhost:8080/"
        },
        "id": "kXiZd_EuU2_O",
        "outputId": "3f4ee204-67d9-4088-e028-14a9d89cead4"
      },
      "outputs": [
        {
          "output_type": "stream",
          "name": "stdout",
          "text": [
            "cp: cannot stat 'kaggle.json': No such file or directory\n"
          ]
        }
      ],
      "source": [
        "#importing data from kaggle ..........................\n",
        "!mkdir -p ./kaggle\n",
        "!cp kaggle.json ~/.kaggle/"
      ]
    },
    {
      "cell_type": "code",
      "source": [
        "!kaggle datasets download -d msambare/fer2013"
      ],
      "metadata": {
        "colab": {
          "base_uri": "https://localhost:8080/"
        },
        "id": "7H8dTmLJVYwU",
        "outputId": "0401cc23-73f9-4569-fdae-869ce0fdb051"
      },
      "execution_count": 2,
      "outputs": [
        {
          "output_type": "stream",
          "name": "stdout",
          "text": [
            "Warning: Looks like you're using an outdated API Version, please consider updating (server 1.6.14 / client 1.6.12)\n",
            "Dataset URL: https://www.kaggle.com/datasets/msambare/fer2013\n",
            "License(s): DbCL-1.0\n",
            "Downloading fer2013.zip to /content\n",
            " 81% 49.0M/60.3M [00:00<00:00, 178MB/s]\n",
            "100% 60.3M/60.3M [00:00<00:00, 200MB/s]\n"
          ]
        }
      ]
    },
    {
      "cell_type": "code",
      "source": [
        "!unzip /content/fer2013.zip -d /content/"
      ],
      "metadata": {
        "colab": {
          "base_uri": "https://localhost:8080/"
        },
        "id": "0LG2ylzOVaMt",
        "outputId": "25ae2c33-ddf3-409c-d292-e4a14e332d0e"
      },
      "execution_count": 5,
      "outputs": [
        {
          "output_type": "stream",
          "name": "stdout",
          "text": [
            "Archive:  /content/fer2013.zip\n",
            "replace /content/test/angry/PrivateTest_10131363.jpg? [y]es, [n]o, [A]ll, [N]one, [r]ename: "
          ]
        }
      ]
    },
    {
      "cell_type": "code",
      "source": [
        "import os\n",
        "#importgting all imp library....\n",
        "import random\n",
        "import numpy as np\n",
        "import pandas as pd\n",
        "import matplotlib.pyplot as plt\n",
        "import cv2\n",
        "import imghdr\n",
        "import tensorflow as tf\n",
        "from PIL import Image\n",
        "import seaborn as sns\n",
        "from sklearn.metrics import confusion_matrix, classification_report, roc_curve, auc\n",
        "from sklearn.utils.class_weight import compute_class_weight\n",
        "from tensorflow.keras import layers, models, regularizers, optimizers\n",
        "from tensorflow.keras.applications import VGG16, ResNet50V2\n",
        "from tensorflow.keras.callbacks import ModelCheckpoint, EarlyStopping, ReduceLROnPlateau, TensorBoard, CSVLogger\n",
        "from tensorflow.keras.layers import Conv2D, MaxPooling2D, BatchNormalization, Dropout, Flatten, Dense, Activation, GlobalAveragePooling2D\n",
        "from tensorflow.keras.models import Sequential, Model\n",
        "from tensorflow.keras.optimizers import Adam, Adamax\n",
        "from tensorflow.keras.preprocessing.image import ImageDataGenerator, load_img, img_to_array\n",
        "from keras.utils import plot_model"
      ],
      "metadata": {
        "id": "uKw2irXxVb4S"
      },
      "execution_count": 6,
      "outputs": []
    },
    {
      "cell_type": "code",
      "source": [],
      "metadata": {
        "id": "AEDlaKT7V77a"
      },
      "execution_count": null,
      "outputs": []
    },
    {
      "cell_type": "code",
      "execution_count": 7,
      "metadata": {
        "id": "_q2PdqAzld6y"
      },
      "outputs": [],
      "source": [
        "#specifying test and test data .......\n",
        "train_data ='/content/train'\n",
        "test_data ='/content/test'\n",
        "\n",
        "batch_size =64\n",
        "# Rescale pixel values to [0,1]\n",
        " # Random rotation within range [-10,10] degrees\n",
        "# Random zoom between [0.8, 1.2]\n",
        "# Random horizontal shift within range [-0.1, 0.1]\n",
        " # Random vertical shift within range [-0.1, 0.1]\n",
        "train_img_gen = ImageDataGenerator(rescale = 1./255,# Rescale pixel values to [0,1]\n",
        "                                        rotation_range =10,\n",
        "                                        zoom_range =0.2,\n",
        "                                        brightness_range = None,\n",
        "                                        width_shift_range =0.1,\n",
        "                                        height_shift_range =0.1,\n",
        "                                        horizontal_flip= True,\n",
        "                                        fill_mode='nearest'\n",
        ")\n",
        "\n",
        "\n",
        "test_img_gen= ImageDataGenerator(rescale=1./255) # rescaleing to 0=1 range ....\n"
      ]
    },
    {
      "cell_type": "code",
      "source": [
        "#data genrator for train and test\n",
        "train_genrator = train_img_gen.flow_from_directory(\n",
        "    train_data, class_mode = 'categorical' , target_size = (224, 224) , color_mode = 'rgb',\n",
        "    batch_size = batch_size, subset = 'training'\n",
        ")\n",
        "\n",
        "\n",
        "#for test data\n",
        "test_genrator = test_img_gen.flow_from_directory(\n",
        "    test_data , class_mode = 'categorical' , target_size = (224, 224) , color_mode = 'rgb',\n",
        "    batch_size = batch_size\n",
        "\n",
        ")"
      ],
      "metadata": {
        "colab": {
          "base_uri": "https://localhost:8080/"
        },
        "id": "NU2ZkiBPWARi",
        "outputId": "cd674bdb-022b-439e-c86e-24c37b94534f"
      },
      "execution_count": 8,
      "outputs": [
        {
          "output_type": "stream",
          "name": "stdout",
          "text": [
            "Found 28709 images belonging to 7 classes.\n",
            "Found 7178 images belonging to 7 classes.\n"
          ]
        }
      ]
    },
    {
      "cell_type": "code",
      "source": [
        "#getting resnet50\n",
        "ResNet50V2_model = tf.keras.applications.ResNet50V2(input_shape=(224, 224, 3),\n",
        "                                               include_top= False, # false  allow adding input and output layer...\n",
        "                                               weights='imagenet'\n",
        "                                               )"
      ],
      "metadata": {
        "colab": {
          "base_uri": "https://localhost:8080/"
        },
        "id": "Xy1mH8xJWCos",
        "outputId": "b102c280-c6fc-4db2-a8c4-f06bd1cc6559"
      },
      "execution_count": 9,
      "outputs": [
        {
          "output_type": "stream",
          "name": "stdout",
          "text": [
            "Downloading data from https://storage.googleapis.com/tensorflow/keras-applications/resnet/resnet50v2_weights_tf_dim_ordering_tf_kernels_notop.h5\n",
            "94668760/94668760 [==============================] - 0s 0us/step\n"
          ]
        }
      ]
    },
    {
      "cell_type": "code",
      "source": [
        "#extract class labels in training\n",
        "classes = np.array(train_genrator.classes)\n",
        " # Strategy to balance classes\n",
        "class_weight =compute_class_weight(\n",
        "    class_weight= 'balanced',  # i crete class weight to handle imbalanced data ...\n",
        "    classes = np.unique(classes), # Unique class labels\n",
        "    y = classes# Class labels for each instance in the training dataset\n",
        ")\n",
        "\n",
        "\n",
        "\n"
      ],
      "metadata": {
        "id": "lIImn81WWEfe"
      },
      "execution_count": 10,
      "outputs": []
    },
    {
      "cell_type": "code",
      "source": [
        "class_dict = dict(enumerate(class_weight))\n",
        "print(\"Class Weights Dictionary:\", class_dict)"
      ],
      "metadata": {
        "colab": {
          "base_uri": "https://localhost:8080/"
        },
        "id": "5OyHqwSYWGHf",
        "outputId": "604350e8-ba28-4977-ef8b-65f0a73efaa5"
      },
      "execution_count": 11,
      "outputs": [
        {
          "output_type": "stream",
          "name": "stdout",
          "text": [
            "Class Weights Dictionary: {0: 1.0266046844269623, 1: 9.406618610747051, 2: 1.0010460615781582, 3: 0.5684387684387684, 4: 0.8260394187886635, 5: 0.8491274770777877, 6: 1.293372978330405}\n"
          ]
        }
      ]
    },
    {
      "cell_type": "code",
      "source": [
        "plt.plot(class_weight)"
      ],
      "metadata": {
        "colab": {
          "base_uri": "https://localhost:8080/",
          "height": 447
        },
        "id": "4F9Tv74oWH8G",
        "outputId": "e485ee21-3ce6-47f6-fa6e-15221d8f2400"
      },
      "execution_count": 12,
      "outputs": [
        {
          "output_type": "execute_result",
          "data": {
            "text/plain": [
              "[<matplotlib.lines.Line2D at 0x7b70cefdf8e0>]"
            ]
          },
          "metadata": {},
          "execution_count": 12
        },
        {
          "output_type": "display_data",
          "data": {
            "text/plain": [
              "<Figure size 640x480 with 1 Axes>"
            ],
            "image/png": "[encoded data removed]"
          },
          "metadata": {}
        }
      ]
    },
    {
      "cell_type": "code",
      "source": [
        "#now in resnet we freeze layers except last 50\n",
        "ResNet50V2_model.trainable = True\n",
        "\n",
        "for layer in ResNet50V2_model.layers[:-50]:\n",
        "    layer.trainable = False"
      ],
      "metadata": {
        "id": "PP8pEITdWJ5h"
      },
      "execution_count": 13,
      "outputs": []
    },
    {
      "cell_type": "code",
      "source": [
        "#resnet 50 model .... creating ...\n",
        "model = Sequential([\n",
        "                      ResNet50V2_model,\n",
        "                      Dropout(0.25),\n",
        "                      BatchNormalization(),\n",
        "                      Flatten(),\n",
        "                      Dense(64, activation='relu'),\n",
        "                      BatchNormalization(),\n",
        "                      Dropout(0.5),\n",
        "                      Dense(7,activation='softmax')\n",
        "                    ]\n",
        "                   )\n"
      ],
      "metadata": {
        "id": "2ZoXIP7oWL3R"
      },
      "execution_count": 14,
      "outputs": []
    },
    {
      "cell_type": "code",
      "source": [
        "model.summary()"
      ],
      "metadata": {
        "colab": {
          "base_uri": "https://localhost:8080/"
        },
        "id": "MH9X-ZKRWNdy",
        "outputId": "939c0ddc-1d1d-43cb-ffc2-f4bd4b6eeb89"
      },
      "execution_count": 15,
      "outputs": [
        {
          "output_type": "stream",
          "name": "stdout",
          "text": [
            "Model: \"sequential\"\n",
            "_________________________________________________________________\n",
            " Layer (type)                Output Shape              Param #   \n",
            "=================================================================\n",
            " resnet50v2 (Functional)     (None, 7, 7, 2048)        23564800  \n",
            "                                                                 \n",
            " dropout (Dropout)           (None, 7, 7, 2048)        0         \n",
            "                                                                 \n",
            " batch_normalization (Batch  (None, 7, 7, 2048)        8192      \n",
            " Normalization)                                                  \n",
            "                                                                 \n",
            " flatten (Flatten)           (None, 100352)            0         \n",
            "                                                                 \n",
            " dense (Dense)               (None, 64)                6422592   \n",
            "                                                                 \n",
            " batch_normalization_1 (Bat  (None, 64)                256       \n",
            " chNormalization)                                                \n",
            "                                                                 \n",
            " dropout_1 (Dropout)         (None, 64)                0         \n",
            "                                                                 \n",
            " dense_1 (Dense)             (None, 7)                 455       \n",
            "                                                                 \n",
            "=================================================================\n",
            "Total params: 29996295 (114.43 MB)\n",
            "Trainable params: 22779527 (86.90 MB)\n",
            "Non-trainable params: 7216768 (27.53 MB)\n",
            "_________________________________________________________________\n"
          ]
        }
      ]
    },
    {
      "cell_type": "code",
      "source": [
        "#model compiling......\n",
        "model.compile(optimizer = 'adam' , loss ='categorical_crossentropy' , metrics = 'accuracy')"
      ],
      "metadata": {
        "id": "4lsxDKH7WPHn"
      },
      "execution_count": 16,
      "outputs": []
    },
    {
      "cell_type": "code",
      "source": [
        "path_cnn = '/content/FER_2013_Emotion_Detection/ResNet50_Transfer_Learning'\n",
        "name = 'model_wirh_resnet50'\n",
        "join_path = os.path.join(path_cnn, name)\n",
        "#callbacks to check model setpionts\n",
        "\n",
        "checkpoint_callbacks = ModelCheckpoint(filepath = join_path , verbose = 1,\n",
        "                                       mode = 'min', save_best_only = True,\n",
        "                                        monitor= 'val_loss')\n",
        "\n",
        "earlystop = EarlyStopping(monitor = 'val_accuracy',\n",
        "                          patience = 7,\n",
        "                          restore_best_weights = True,\n",
        "                          verbose=1)\n",
        "# Callback to reduce learning rate\n",
        "reduce_lr = ReduceLROnPlateau(monitor='val_loss',\n",
        "                              factor=0.2,\n",
        "                              patience=2,\n",
        "#                             min_lr=0.00005,\n",
        "                              verbose=1)\n",
        "#call back for csv logger\n",
        "csv_logger = CSVLogger(os.path.join(path_cnn,'training.log'))# Callback to log training data to a CSV file\n",
        "\n",
        "\n"
      ],
      "metadata": {
        "id": "cBeZCyqJWRV_"
      },
      "execution_count": 17,
      "outputs": []
    },
    {
      "cell_type": "code",
      "source": [
        "# load all callbacks into a list\n",
        "callbacks = [checkpoint_callbacks, earlystop, csv_logger]  # Adjusted as per your use-case\n",
        "\n",
        "train_steps_per_epoch = train_genrator.samples // train_genrator.batch_size + 1\n",
        "# validation_steps_epoch = validation_generator.samples // validation_generator.batch_size + 1\n",
        "test_steps_epoch = test_genrator.samples // test_genrator.batch_size + 1"
      ],
      "metadata": {
        "id": "0OSOCZqMWTdd"
      },
      "execution_count": 18,
      "outputs": []
    },
    {
      "cell_type": "code",
      "source": [
        "print(train_steps_per_epoch)\n",
        "print(test_steps_epoch)"
      ],
      "metadata": {
        "colab": {
          "base_uri": "https://localhost:8080/"
        },
        "id": "xvdVsQwjWVbe",
        "outputId": "ba51c8d2-77ff-41f2-80ad-603c280aa9e4"
      },
      "execution_count": 19,
      "outputs": [
        {
          "output_type": "stream",
          "name": "stdout",
          "text": [
            "449\n",
            "113\n"
          ]
        }
      ]
    },
    {
      "cell_type": "code",
      "source": [
        "train_history = model.fit(\n",
        "                          train_genrator,\n",
        "                          steps_per_epoch=train_steps_per_epoch,\n",
        "                          epochs=5,\n",
        "                          validation_data=test_genrator,\n",
        "                          validation_steps=test_steps_epoch,\n",
        "                          class_weight=class_dict,\n",
        "                          callbacks = callbacks\n",
        "                         )"
      ],
      "metadata": {
        "colab": {
          "base_uri": "https://localhost:8080/"
        },
        "id": "QMrm9FdgWXGh",
        "outputId": "258e266b-1acd-452f-f193-ffacfa4e1bad"
      },
      "execution_count": 21,
      "outputs": [
        {
          "output_type": "stream",
          "name": "stdout",
          "text": [
            "Epoch 1/5\n",
            "449/449 [==============================] - ETA: 0s - loss: 1.7823 - accuracy: 0.3729\n",
            "Epoch 1: val_loss improved from inf to 20.70853, saving model to /content/FER_2013_Emotion_Detection/ResNet50_Transfer_Learning/model_wirh_resnet50\n",
            "449/449 [==============================] - 460s 1s/step - loss: 1.7823 - accuracy: 0.3729 - val_loss: 20.7085 - val_accuracy: 0.2644\n",
            "Epoch 2/5\n",
            "449/449 [==============================] - ETA: 0s - loss: 1.4970 - accuracy: 0.4594\n",
            "Epoch 2: val_loss improved from 20.70853 to 1.39417, saving model to /content/FER_2013_Emotion_Detection/ResNet50_Transfer_Learning/model_wirh_resnet50\n",
            "449/449 [==============================] - 450s 1s/step - loss: 1.4970 - accuracy: 0.4594 - val_loss: 1.3942 - val_accuracy: 0.5157\n",
            "Epoch 3/5\n",
            "449/449 [==============================] - ETA: 0s - loss: 1.3581 - accuracy: 0.5001\n",
            "Epoch 3: val_loss did not improve from 1.39417\n",
            "449/449 [==============================] - 395s 880ms/step - loss: 1.3581 - accuracy: 0.5001 - val_loss: 1.8353 - val_accuracy: 0.3955\n",
            "Epoch 4/5\n",
            "449/449 [==============================] - ETA: 0s - loss: 1.2954 - accuracy: 0.5227\n",
            "Epoch 4: val_loss did not improve from 1.39417\n",
            "449/449 [==============================] - 392s 874ms/step - loss: 1.2954 - accuracy: 0.5227 - val_loss: 1.6842 - val_accuracy: 0.3664\n",
            "Epoch 5/5\n",
            "449/449 [==============================] - ETA: 0s - loss: 1.2781 - accuracy: 0.5262\n",
            "Epoch 5: val_loss improved from 1.39417 to 1.22300, saving model to /content/FER_2013_Emotion_Detection/ResNet50_Transfer_Learning/model_wirh_resnet50\n",
            "449/449 [==============================] - 416s 926ms/step - loss: 1.2781 - accuracy: 0.5262 - val_loss: 1.2230 - val_accuracy: 0.5435\n"
          ]
        }
      ]
    },
    {
      "cell_type": "code",
      "source": [
        "model.save(\"emotion_model.keras\")"
      ],
      "metadata": {
        "id": "8YnUIb5IWZBu"
      },
      "execution_count": 22,
      "outputs": []
    },
    {
      "cell_type": "code",
      "source": [
        "import keras"
      ],
      "metadata": {
        "id": "xVjql75pfPpE"
      },
      "execution_count": 23,
      "outputs": []
    },
    {
      "cell_type": "code",
      "source": [
        "loss = train_history.history['loss']\n",
        "val_accuracy = train_history.history['val_loss']\n",
        "\n",
        "plt.plot(loss, val_accuracy)\n",
        "plt.show()"
      ],
      "metadata": {
        "colab": {
          "base_uri": "https://localhost:8080/",
          "height": 430
        },
        "id": "f4b5d7IafTbs",
        "outputId": "cf4eb722-15a2-468f-b6bb-52e216dc0c7f"
      },
      "execution_count": 24,
      "outputs": [
        {
          "output_type": "display_data",
          "data": {
            "text/plain": [
              "<Figure size 640x480 with 1 Axes>"
            ],
            "image/png": "[encoded data removed]"
          },
          "metadata": {}
        }
      ]
    },
    {
      "cell_type": "code",
      "source": [
        "take = keras.saving.load_model('/content/emotion_model.keras')"
      ],
      "metadata": {
        "id": "R8dozR5JfWtW"
      },
      "execution_count": 25,
      "outputs": []
    },
    {
      "cell_type": "code",
      "source": [
        "train_history = take.fit(\n",
        "    train_genrator, steps_per_epoch=train_steps_per_epoch,\n",
        "                          epochs=5,\n",
        "                          validation_data=test_genrator,\n",
        "                          validation_steps=test_steps_epoch,\n",
        "                          class_weight=class_dict,\n",
        "                          callbacks = callbacks\n",
        "                         )"
      ],
      "metadata": {
        "colab": {
          "base_uri": "https://localhost:8080/"
        },
        "id": "vHUWTLlafaXi",
        "outputId": "7f84bfed-60a7-4b2c-9520-ef2a7c565444"
      },
      "execution_count": 26,
      "outputs": [
        {
          "output_type": "stream",
          "name": "stdout",
          "text": [
            "Epoch 1/5\n",
            "449/449 [==============================] - ETA: 0s - loss: 1.1402 - accuracy: 0.5701\n",
            "Epoch 1: val_loss improved from 1.22300 to 1.21992, saving model to /content/FER_2013_Emotion_Detection/ResNet50_Transfer_Learning/model_wirh_resnet50\n",
            "449/449 [==============================] - 428s 919ms/step - loss: 1.1402 - accuracy: 0.5701 - val_loss: 1.2199 - val_accuracy: 0.5556\n",
            "Epoch 2/5\n",
            "449/449 [==============================] - ETA: 0s - loss: 1.0841 - accuracy: 0.5919\n",
            "Epoch 2: val_loss improved from 1.21992 to 1.14713, saving model to /content/FER_2013_Emotion_Detection/ResNet50_Transfer_Learning/model_wirh_resnet50\n",
            "449/449 [==============================] - 420s 935ms/step - loss: 1.0841 - accuracy: 0.5919 - val_loss: 1.1471 - val_accuracy: 0.5762\n",
            "Epoch 3/5\n",
            "449/449 [==============================] - ETA: 0s - loss: 1.0627 - accuracy: 0.5984\n",
            "Epoch 3: val_loss improved from 1.14713 to 1.02076, saving model to /content/FER_2013_Emotion_Detection/ResNet50_Transfer_Learning/model_wirh_resnet50\n",
            "449/449 [==============================] - 420s 936ms/step - loss: 1.0627 - accuracy: 0.5984 - val_loss: 1.0208 - val_accuracy: 0.6193\n",
            "Epoch 4/5\n",
            "449/449 [==============================] - ETA: 0s - loss: 1.0347 - accuracy: 0.6071\n",
            "Epoch 4: val_loss did not improve from 1.02076\n",
            "449/449 [==============================] - 400s 891ms/step - loss: 1.0347 - accuracy: 0.6071 - val_loss: 1.1184 - val_accuracy: 0.5872\n",
            "Epoch 5/5\n",
            "449/449 [==============================] - ETA: 0s - loss: 1.0061 - accuracy: 0.6115\n",
            "Epoch 5: val_loss did not improve from 1.02076\n",
            "449/449 [==============================] - 401s 892ms/step - loss: 1.0061 - accuracy: 0.6115 - val_loss: 1.1067 - val_accuracy: 0.5957\n"
          ]
        }
      ]
    },
    {
      "cell_type": "code",
      "source": [
        "test_loss, test_accu = model.evaluate(test_genrator)\n",
        "print(test_loss, test_accu)"
      ],
      "metadata": {
        "colab": {
          "base_uri": "https://localhost:8080/"
        },
        "id": "O5cH2Whvfz6e",
        "outputId": "aafa3574-dcb6-46c7-e308-29404cc4b512"
      },
      "execution_count": 27,
      "outputs": [
        {
          "output_type": "stream",
          "name": "stdout",
          "text": [
            "113/113 [==============================] - 20s 173ms/step - loss: 1.2230 - accuracy: 0.5435\n",
            "1.2230010032653809 0.5434661507606506\n"
          ]
        }
      ]
    },
    {
      "cell_type": "code",
      "source": [
        "#now print final printing train and test accuracy\n",
        "train_loss, train_accu = model.evaluate(train_genrator)\n",
        "test_loss, test_accu = model.evaluate(test_genrator)\n",
        "print(\"final train accuracy = {:.2f} , validation accuracy = {:.2f}\".format(train_accu*100, test_accu*100))"
      ],
      "metadata": {
        "colab": {
          "base_uri": "https://localhost:8080/"
        },
        "id": "_z9NTMmGoIxW",
        "outputId": "a46f4dbd-508a-4ddc-8881-8ae3a56f6e08"
      },
      "execution_count": 28,
      "outputs": [
        {
          "output_type": "stream",
          "name": "stdout",
          "text": [
            "449/449 [==============================] - 367s 816ms/step - loss: 1.2161 - accuracy: 0.5522\n",
            "113/113 [==============================] - 20s 174ms/step - loss: 1.2230 - accuracy: 0.5435\n",
            "final train accuracy = 55.22 , validation accuracy = 54.35\n"
          ]
        }
      ]
    },
    {
      "cell_type": "code",
      "source": [
        "\n",
        "#im assuming true class and pridected is alredy defined\n",
        "true_classes = test_genrator.classes\n",
        "predicted_classes = np.argmax(model.predict(test_genrator, steps=np.ceil(test_genrator.samples/test_genrator.batch_size)), axis=1)\n",
        "class_labels = list(test_genrator.class_indices.keys())\n"
      ],
      "metadata": {
        "colab": {
          "base_uri": "https://localhost:8080/"
        },
        "id": "xd93ZDCnoc6G",
        "outputId": "5e7f4166-150e-4eba-faf5-b06df16f9080"
      },
      "execution_count": 29,
      "outputs": [
        {
          "output_type": "stream",
          "name": "stdout",
          "text": [
            "113/113 [==============================] - 21s 174ms/step\n"
          ]
        }
      ]
    },
    {
      "cell_type": "code",
      "source": [
        "# Printing  classification report...understaing model performance\n",
        "report = classification_report(true_classes,\n",
        "                               predicted_classes,\n",
        "                               target_names=class_labels,\n",
        "                               zero_division=0)\n",
        "print(\"Classification Report:\\n\", report)"
      ],
      "metadata": {
        "colab": {
          "base_uri": "https://localhost:8080/"
        },
        "id": "PICO5LSjqST7",
        "outputId": "b96abce8-b29b-4e3c-fa15-94627760c4f0"
      },
      "execution_count": 30,
      "outputs": [
        {
          "output_type": "stream",
          "name": "stdout",
          "text": [
            "Classification Report:\n",
            "               precision    recall  f1-score   support\n",
            "\n",
            "       angry       0.14      0.26      0.18       958\n",
            "     disgust       0.02      0.11      0.04       111\n",
            "        fear       0.12      0.05      0.08      1024\n",
            "       happy       0.24      0.22      0.23      1774\n",
            "     neutral       0.17      0.14      0.15      1233\n",
            "         sad       0.16      0.09      0.12      1247\n",
            "    surprise       0.11      0.13      0.12       831\n",
            "\n",
            "    accuracy                           0.15      7178\n",
            "   macro avg       0.14      0.14      0.13      7178\n",
            "weighted avg       0.17      0.15      0.15      7178\n",
            "\n"
          ]
        }
      ]
    },
    {
      "cell_type": "code",
      "source": [
        "# now plotinng confusion matrix ...\n",
        "# Generate the confusion matrix\n",
        "cm = confusion_matrix(true_classes, predicted_classes)\n",
        "\n",
        "# using seaborn for plooting .....\n",
        "plt.figure(figsize=(10, 8))\n",
        "sns.heatmap(cm, annot=True, fmt=\"d\", cmap=\"Blues\", xticklabels=class_labels, yticklabels=class_labels)\n",
        "plt.title('Confusion Matrix' , color = 'red')\n",
        "plt.ylabel('True label')\n",
        "plt.xlabel('Predicted label')\n",
        "plt.show()"
      ],
      "metadata": {
        "colab": {
          "base_uri": "https://localhost:8080/",
          "height": 718
        },
        "id": "7Tfdc0mDqf8H",
        "outputId": "5a9e1e78-92ac-4b41-c478-6c4461045e98"
      },
      "execution_count": 40,
      "outputs": [
        {
          "output_type": "display_data",
          "data": {
            "text/plain": [
              "<Figure size 1000x800 with 2 Axes>"
            ],
            "image/png": "[encoded data removed]"
          },
          "metadata": {}
        }
      ]
    },
    {
      "cell_type": "code",
      "source": [
        "#saving model with name resnet medel vrsion 2\n",
        "model.save(\"Resnet_modelv2.keras\")"
      ],
      "metadata": {
        "id": "iKf52m7KqwVw"
      },
      "execution_count": 41,
      "outputs": []
    },
    {
      "cell_type": "code",
      "source": [
        "from google.colab import drive\n",
        "drive.mount('/gdrive')"
      ],
      "metadata": {
        "colab": {
          "base_uri": "https://localhost:8080/"
        },
        "id": "vCFrmwVGrq5_",
        "outputId": "108957e2-368d-49f4-abae-1362c328b34e"
      },
      "execution_count": 43,
      "outputs": [
        {
          "output_type": "stream",
          "name": "stdout",
          "text": [
            "Mounted at /gdrive\n"
          ]
        }
      ]
    },
    {
      "cell_type": "code",
      "source": [
        "with open('/gdrive/My Drive/foo.txt', 'w') as f:\n",
        "  f.write('Hello Google Drive!')\n",
        "!cat '/gdrive/My Drive/foo.txt'"
      ],
      "metadata": {
        "colab": {
          "base_uri": "https://localhost:8080/"
        },
        "id": "uHO-8zIkr76y",
        "outputId": "16053d8d-8602-4352-cbc8-7620cc988170"
      },
      "execution_count": 44,
      "outputs": [
        {
          "output_type": "stream",
          "name": "stdout",
          "text": [
            "Hello Google Drive!"
          ]
        }
      ]
    },
    {
      "cell_type": "code",
      "source": [
        "!cp /content/FER_2013_Emotion_Detection /content/drive/MyDrive/"
      ],
      "metadata": {
        "colab": {
          "base_uri": "https://localhost:8080/"
        },
        "id": "85vm6L7jrgWV",
        "outputId": "52ed79fe-0e19-4de6-ca49-0e66db0767b9"
      },
      "execution_count": 46,
      "outputs": [
        {
          "output_type": "stream",
          "name": "stdout",
          "text": [
            "cp: -r not specified; omitting directory '/content/FER_2013_Emotion_Detection'\n"
          ]
        }
      ]
    },
    {
      "cell_type": "code",
      "source": [
        "# time to deploy model....\n"
      ],
      "metadata": {
        "id": "PuCKxgGHrnpX"
      },
      "execution_count": null,
      "outputs": []
    }
  ]
}